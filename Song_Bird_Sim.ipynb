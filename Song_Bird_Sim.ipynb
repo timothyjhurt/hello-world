{
 "cells": [
  {
   "cell_type": "code",
   "execution_count": 2,
   "metadata": {},
   "outputs": [
    {
     "data": {
      "application/vnd.jupyter.widget-view+json": {
       "model_id": "bd41499b19fe4077a6d4fd31b5e23066",
       "version_major": 2,
       "version_minor": 0
      },
      "text/plain": [
       "interactive(children=(IntSlider(value=2, description='Female age', layout=Layout(width='50%'), max=9, min=1, s…"
      ]
     },
     "metadata": {},
     "output_type": "display_data"
    },
    {
     "name": "stdout",
     "output_type": "stream",
     "text": [
      "<function song_birds_prob at 0x000000E89C3CD0D0>\n"
     ]
    }
   ],
   "source": [
    "import ipywidgets as widgets\n",
    "from ipywidgets import interact, fixed, Layout\n",
    "import numpy as np\n",
    "import matplotlib.pyplot as plt\n",
    "import math\n",
    "from scipy.special import comb\n",
    "def num_nests(prob, numb):\n",
    "    x=[]\n",
    "    y=[]\n",
    "    for i in range(numb):\n",
    "        x.append(i+1)\n",
    "        y.append(comb(numb, i+1)*prob**(i+1)*(1-prob)**(numb-(i+1)))\n",
    "    return x, y\n",
    "\n",
    "def song_birds_prob(fa, inbreed, rain, min_temp, loc_den, loc_para, brood_para, lay_date, intercept=.71):\n",
    "#     fa=(fa-2)/((8)/np.sqrt(12))\n",
    "#     inbreed=(inbreed-.05)/((.28)/np.sqrt(12))\n",
    "#     rain=(rain-31.4)/((128)/np.sqrt(12))\n",
    "#     min_temp=(min_temp-2.7)/((13.4)/np.sqrt(12))\n",
    "#     loc_den=(loc_den-12)/((46)/np.sqrt(12))\n",
    "#     loc_para=(loc_para)/((12)/np.sqrt(12))\n",
    "#     brood_para=(brood_para)/((.44)/np.sqrt(12))\n",
    "    \n",
    "    fa=(fa-2)/((2)/.6745)\n",
    "    inbreed=(inbreed-.05)/((.08)/.6745)\n",
    "    rain=(rain-31.4)/((29.4)/.6745)\n",
    "    min_temp=(min_temp-2.7)/((5.3)/.6745)\n",
    "    loc_den=(loc_den-12)/((10)/.6745)\n",
    "    loc_para=(loc_para)/((3)/.6745)\n",
    "    brood_para=(brood_para)/((.22)/.6745)\n",
    "    l=intercept+.81*fa+(-.85)*fa**2+(-.22)*inbreed+(-.35)*rain+(.38)*min_temp+(-.51)*loc_den+(-.35)*loc_para+(-.29)*brood_para\n",
    "#     x, y = num_nests(np.exp(l)/(np.exp(l)+1), 100)\n",
    "#     plt.plot(x, y)\n",
    "#     plt.show()\n",
    "    return print(str(np.exp(l)/(np.exp(l)+1)*100)[:4]+' percent change of success')\n",
    "style = {'description_width': '150px'}\n",
    "layout=Layout(width='50%')\n",
    "print(interact(song_birds_prob, \n",
    "         fa=widgets.IntSlider(min=1,max=9,step=1,value=2,description='Female age',style=style, layout=layout), \n",
    "         inbreed=widgets.FloatSlider(min=0,max=.28,step=.01,value=.05,description='Inbreeding coefficient',style=style, layout=layout), \n",
    "         rain=widgets.FloatSlider(min=0,max=128,step=.1,value=31.4,description='Cumulative rainfall',style=style, layout=layout), \n",
    "         min_temp=widgets.FloatSlider(min=-3.2,max=10.2,step=.1,value=2.7,description='Minimum temperature',style=style, layout=layout), \n",
    "         loc_den=widgets.IntSlider(min=0,max=46,step=1,value=12,description='Breeding density',style=style, layout=layout), \n",
    "         loc_para=widgets.IntSlider(min=0,max=12,step=1,value=0,description='Local Parasitism Rate',style=style, layout=layout), \n",
    "         brood_para=widgets.FloatSlider(min=0,max=.44, step=.02,value=0,description='Brood Parasitism rate',style=style, layout=layout),\n",
    "         lay_date=widgets.IntSlider(min=57, max=202, step=1, value=131,description='Lay date',style=style, layout=layout),\n",
    "         intercept=fixed(0.71)))"
   ]
  }
 ],
 "metadata": {
  "kernelspec": {
   "display_name": "Python 3",
   "language": "python",
   "name": "python3"
  },
  "language_info": {
   "codemirror_mode": {
    "name": "ipython",
    "version": 3
   },
   "file_extension": ".py",
   "mimetype": "text/x-python",
   "name": "python",
   "nbconvert_exporter": "python",
   "pygments_lexer": "ipython3",
   "version": "3.6.7"
  }
 },
 "nbformat": 4,
 "nbformat_minor": 2
}
